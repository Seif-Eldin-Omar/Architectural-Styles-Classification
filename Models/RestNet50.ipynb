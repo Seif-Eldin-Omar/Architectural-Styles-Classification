{
 "cells": [
  {
   "cell_type": "code",
   "execution_count": 2,
   "metadata": {},
   "outputs": [],
   "source": [
    "import numpy as np\n",
    "import tensorflow as tf\n",
    "from tensorflow.keras import layers, models, applications\n",
    "from tensorflow.keras.preprocessing.image import ImageDataGenerator\n",
    "from tensorflow.keras.callbacks import EarlyStopping, ModelCheckpoint, ReduceLROnPlateau\n",
    "from tensorflow.keras.optimizers import Adam\n",
    "import os\n",
    "import pandas as pd\n",
    "import cv2"
   ]
  },
  {
   "cell_type": "code",
   "execution_count": 10,
   "metadata": {},
   "outputs": [],
   "source": [
    "# --- Configuration ---\n",
    "preprocessed_path = r'D:\\FUCK!!\\Pattern\\Project\\notebooks\\new_preprocessed_RGB_images' # Make sure this path is correct\n",
    "input_shape = (128, 128, 3)  # Standard VGG16 RGB input\n",
    "batch_size = 64\n",
    "num_epochs = 20 # Set a higher number of epochs, EarlyStopping will handle the actual stop"
   ]
  },
  {
   "cell_type": "code",
   "execution_count": 11,
   "metadata": {},
   "outputs": [
    {
     "name": "stdout",
     "output_type": "stream",
     "text": [
      "Setting up Training Generator...\n",
      "Found 28400 images belonging to 10 classes.\n",
      "Found 28400 images belonging to 10 classes in training set.\n",
      "\n",
      "Setting up Validation Generator...\n",
      "Found 497 images belonging to 10 classes.\n",
      "Found 497 images belonging to 10 classes in validation set.\n",
      "\n",
      "Setting up Testing Generator...\n",
      "Found 268 images belonging to 10 classes.\n",
      "Found 268 images belonging to 10 classes in validation set.\n"
     ]
    }
   ],
   "source": [
    "from tensorflow.keras.applications.resnet50 import preprocess_input\n",
    "\n",
    "# “val_dir” is the root of your test/validation folder\n",
    "train_datagen = ImageDataGenerator(preprocessing_function=preprocess_input)\n",
    "\n",
    "print(\"Setting up Training Generator...\")\n",
    "train_generator = train_datagen.flow_from_directory(\n",
    "    os.path.join(preprocessed_path, 'train'),\n",
    "    target_size=input_shape[:2], # Use (224, 224)\n",
    "    batch_size=batch_size,\n",
    "    class_mode='sparse',         # Use sparse for sparse_categorical_crossentropy\n",
    "    color_mode='rgb',\n",
    "    shuffle=True             # Ensure images are loaded as RGB\n",
    ")\n",
    "print(f\"Found {train_generator.samples} images belonging to {train_generator.num_classes} classes in training set.\")\n",
    "\n",
    "print(\"\\nSetting up Validation Generator...\")\n",
    "val_generator = train_datagen.flow_from_directory(\n",
    "    os.path.join(preprocessed_path, 'val'),\n",
    "    target_size=input_shape[:2], # Use (224, 224)\n",
    "    batch_size=batch_size,\n",
    "    class_mode='sparse',         # Use sparse for sparse_categorical_crossentropy\n",
    "    color_mode='rgb',            # Ensure images are loaded as RGB\n",
    "    shuffle=False                # No need to shuffle validation data\n",
    ")\n",
    "print(f\"Found {val_generator.samples} images belonging to {val_generator.num_classes} classes in validation set.\")\n",
    "\n",
    "print(\"\\nSetting up Testing Generator...\")\n",
    "test_generator = train_datagen.flow_from_directory(\n",
    "    r\"D:\\FUCK!!\\Pattern\\Project\\notebooks\\new_preprocessed_RGB_images\\test\",\n",
    "    target_size=input_shape[:2], # Use (224, 224)\n",
    "    batch_size=batch_size,\n",
    "    class_mode='sparse',         # Use sparse for sparse_categorical_crossentropy\n",
    "    color_mode='rgb',            # Ensure images are loaded as RGB\n",
    "    shuffle=False                # No need to shuffle validation data\n",
    ")\n",
    "print(f\"Found {test_generator.samples} images belonging to {test_generator.num_classes} classes in validation set.\")\n"
   ]
  },
  {
   "cell_type": "code",
   "execution_count": 12,
   "metadata": {},
   "outputs": [],
   "source": [
    "# Get the number of classes from the generator\n",
    "num_classes = train_generator.num_classes\n",
    "if num_classes != val_generator.num_classes:\n",
    "    print(\"Warning: Training and validation sets have different numbers of classes!\")\n"
   ]
  },
  {
   "cell_type": "code",
   "execution_count": 24,
   "metadata": {},
   "outputs": [
    {
     "name": "stdout",
     "output_type": "stream",
     "text": [
      "VGG16 base model loaded. Trainable: True\n",
      "\n",
      "Model Summary:\n"
     ]
    },
    {
     "data": {
      "text/html": [
       "<pre style=\"white-space:pre;overflow-x:auto;line-height:normal;font-family:Menlo,'DejaVu Sans Mono',consolas,'Courier New',monospace\"><span style=\"font-weight: bold\">Model: \"VGG16_Transfer_Learning\"</span>\n",
       "</pre>\n"
      ],
      "text/plain": [
       "\u001b[1mModel: \"VGG16_Transfer_Learning\"\u001b[0m\n"
      ]
     },
     "metadata": {},
     "output_type": "display_data"
    },
    {
     "data": {
      "text/html": [
       "<pre style=\"white-space:pre;overflow-x:auto;line-height:normal;font-family:Menlo,'DejaVu Sans Mono',consolas,'Courier New',monospace\">┏━━━━━━━━━━━━━━━━━━━━━━━━━━━━━━━━━┳━━━━━━━━━━━━━━━━━━━━━━━━┳━━━━━━━━━━━━━━━┓\n",
       "┃<span style=\"font-weight: bold\"> Layer (type)                    </span>┃<span style=\"font-weight: bold\"> Output Shape           </span>┃<span style=\"font-weight: bold\">       Param # </span>┃\n",
       "┡━━━━━━━━━━━━━━━━━━━━━━━━━━━━━━━━━╇━━━━━━━━━━━━━━━━━━━━━━━━╇━━━━━━━━━━━━━━━┩\n",
       "│ resnet50 (<span style=\"color: #0087ff; text-decoration-color: #0087ff\">Functional</span>)           │ (<span style=\"color: #00d7ff; text-decoration-color: #00d7ff\">None</span>, <span style=\"color: #00af00; text-decoration-color: #00af00\">4</span>, <span style=\"color: #00af00; text-decoration-color: #00af00\">4</span>, <span style=\"color: #00af00; text-decoration-color: #00af00\">2048</span>)     │    <span style=\"color: #00af00; text-decoration-color: #00af00\">23,587,712</span> │\n",
       "├─────────────────────────────────┼────────────────────────┼───────────────┤\n",
       "│ global_avg_pool                 │ (<span style=\"color: #00d7ff; text-decoration-color: #00d7ff\">None</span>, <span style=\"color: #00af00; text-decoration-color: #00af00\">2048</span>)           │             <span style=\"color: #00af00; text-decoration-color: #00af00\">0</span> │\n",
       "│ (<span style=\"color: #0087ff; text-decoration-color: #0087ff\">GlobalAveragePooling2D</span>)        │                        │               │\n",
       "├─────────────────────────────────┼────────────────────────┼───────────────┤\n",
       "│ fc1 (<span style=\"color: #0087ff; text-decoration-color: #0087ff\">Dense</span>)                     │ (<span style=\"color: #00d7ff; text-decoration-color: #00d7ff\">None</span>, <span style=\"color: #00af00; text-decoration-color: #00af00\">512</span>)            │     <span style=\"color: #00af00; text-decoration-color: #00af00\">1,049,088</span> │\n",
       "├─────────────────────────────────┼────────────────────────┼───────────────┤\n",
       "│ batch_normalization             │ (<span style=\"color: #00d7ff; text-decoration-color: #00d7ff\">None</span>, <span style=\"color: #00af00; text-decoration-color: #00af00\">512</span>)            │         <span style=\"color: #00af00; text-decoration-color: #00af00\">2,048</span> │\n",
       "│ (<span style=\"color: #0087ff; text-decoration-color: #0087ff\">BatchNormalization</span>)            │                        │               │\n",
       "├─────────────────────────────────┼────────────────────────┼───────────────┤\n",
       "│ dropout_1 (<span style=\"color: #0087ff; text-decoration-color: #0087ff\">Dropout</span>)             │ (<span style=\"color: #00d7ff; text-decoration-color: #00d7ff\">None</span>, <span style=\"color: #00af00; text-decoration-color: #00af00\">512</span>)            │             <span style=\"color: #00af00; text-decoration-color: #00af00\">0</span> │\n",
       "├─────────────────────────────────┼────────────────────────┼───────────────┤\n",
       "│ fc2 (<span style=\"color: #0087ff; text-decoration-color: #0087ff\">Dense</span>)                     │ (<span style=\"color: #00d7ff; text-decoration-color: #00d7ff\">None</span>, <span style=\"color: #00af00; text-decoration-color: #00af00\">256</span>)            │       <span style=\"color: #00af00; text-decoration-color: #00af00\">131,328</span> │\n",
       "├─────────────────────────────────┼────────────────────────┼───────────────┤\n",
       "│ batch_normalization_1           │ (<span style=\"color: #00d7ff; text-decoration-color: #00d7ff\">None</span>, <span style=\"color: #00af00; text-decoration-color: #00af00\">256</span>)            │         <span style=\"color: #00af00; text-decoration-color: #00af00\">1,024</span> │\n",
       "│ (<span style=\"color: #0087ff; text-decoration-color: #0087ff\">BatchNormalization</span>)            │                        │               │\n",
       "├─────────────────────────────────┼────────────────────────┼───────────────┤\n",
       "│ dropout_2 (<span style=\"color: #0087ff; text-decoration-color: #0087ff\">Dropout</span>)             │ (<span style=\"color: #00d7ff; text-decoration-color: #00d7ff\">None</span>, <span style=\"color: #00af00; text-decoration-color: #00af00\">256</span>)            │             <span style=\"color: #00af00; text-decoration-color: #00af00\">0</span> │\n",
       "├─────────────────────────────────┼────────────────────────┼───────────────┤\n",
       "│ fc3 (<span style=\"color: #0087ff; text-decoration-color: #0087ff\">Dense</span>)                     │ (<span style=\"color: #00d7ff; text-decoration-color: #00d7ff\">None</span>, <span style=\"color: #00af00; text-decoration-color: #00af00\">128</span>)            │        <span style=\"color: #00af00; text-decoration-color: #00af00\">32,896</span> │\n",
       "├─────────────────────────────────┼────────────────────────┼───────────────┤\n",
       "│ batch_normalization_2           │ (<span style=\"color: #00d7ff; text-decoration-color: #00d7ff\">None</span>, <span style=\"color: #00af00; text-decoration-color: #00af00\">128</span>)            │           <span style=\"color: #00af00; text-decoration-color: #00af00\">512</span> │\n",
       "│ (<span style=\"color: #0087ff; text-decoration-color: #0087ff\">BatchNormalization</span>)            │                        │               │\n",
       "├─────────────────────────────────┼────────────────────────┼───────────────┤\n",
       "│ dropout_3 (<span style=\"color: #0087ff; text-decoration-color: #0087ff\">Dropout</span>)             │ (<span style=\"color: #00d7ff; text-decoration-color: #00d7ff\">None</span>, <span style=\"color: #00af00; text-decoration-color: #00af00\">128</span>)            │             <span style=\"color: #00af00; text-decoration-color: #00af00\">0</span> │\n",
       "├─────────────────────────────────┼────────────────────────┼───────────────┤\n",
       "│ predictions (<span style=\"color: #0087ff; text-decoration-color: #0087ff\">Dense</span>)             │ (<span style=\"color: #00d7ff; text-decoration-color: #00d7ff\">None</span>, <span style=\"color: #00af00; text-decoration-color: #00af00\">10</span>)             │         <span style=\"color: #00af00; text-decoration-color: #00af00\">1,290</span> │\n",
       "└─────────────────────────────────┴────────────────────────┴───────────────┘\n",
       "</pre>\n"
      ],
      "text/plain": [
       "┏━━━━━━━━━━━━━━━━━━━━━━━━━━━━━━━━━┳━━━━━━━━━━━━━━━━━━━━━━━━┳━━━━━━━━━━━━━━━┓\n",
       "┃\u001b[1m \u001b[0m\u001b[1mLayer (type)                   \u001b[0m\u001b[1m \u001b[0m┃\u001b[1m \u001b[0m\u001b[1mOutput Shape          \u001b[0m\u001b[1m \u001b[0m┃\u001b[1m \u001b[0m\u001b[1m      Param #\u001b[0m\u001b[1m \u001b[0m┃\n",
       "┡━━━━━━━━━━━━━━━━━━━━━━━━━━━━━━━━━╇━━━━━━━━━━━━━━━━━━━━━━━━╇━━━━━━━━━━━━━━━┩\n",
       "│ resnet50 (\u001b[38;5;33mFunctional\u001b[0m)           │ (\u001b[38;5;45mNone\u001b[0m, \u001b[38;5;34m4\u001b[0m, \u001b[38;5;34m4\u001b[0m, \u001b[38;5;34m2048\u001b[0m)     │    \u001b[38;5;34m23,587,712\u001b[0m │\n",
       "├─────────────────────────────────┼────────────────────────┼───────────────┤\n",
       "│ global_avg_pool                 │ (\u001b[38;5;45mNone\u001b[0m, \u001b[38;5;34m2048\u001b[0m)           │             \u001b[38;5;34m0\u001b[0m │\n",
       "│ (\u001b[38;5;33mGlobalAveragePooling2D\u001b[0m)        │                        │               │\n",
       "├─────────────────────────────────┼────────────────────────┼───────────────┤\n",
       "│ fc1 (\u001b[38;5;33mDense\u001b[0m)                     │ (\u001b[38;5;45mNone\u001b[0m, \u001b[38;5;34m512\u001b[0m)            │     \u001b[38;5;34m1,049,088\u001b[0m │\n",
       "├─────────────────────────────────┼────────────────────────┼───────────────┤\n",
       "│ batch_normalization             │ (\u001b[38;5;45mNone\u001b[0m, \u001b[38;5;34m512\u001b[0m)            │         \u001b[38;5;34m2,048\u001b[0m │\n",
       "│ (\u001b[38;5;33mBatchNormalization\u001b[0m)            │                        │               │\n",
       "├─────────────────────────────────┼────────────────────────┼───────────────┤\n",
       "│ dropout_1 (\u001b[38;5;33mDropout\u001b[0m)             │ (\u001b[38;5;45mNone\u001b[0m, \u001b[38;5;34m512\u001b[0m)            │             \u001b[38;5;34m0\u001b[0m │\n",
       "├─────────────────────────────────┼────────────────────────┼───────────────┤\n",
       "│ fc2 (\u001b[38;5;33mDense\u001b[0m)                     │ (\u001b[38;5;45mNone\u001b[0m, \u001b[38;5;34m256\u001b[0m)            │       \u001b[38;5;34m131,328\u001b[0m │\n",
       "├─────────────────────────────────┼────────────────────────┼───────────────┤\n",
       "│ batch_normalization_1           │ (\u001b[38;5;45mNone\u001b[0m, \u001b[38;5;34m256\u001b[0m)            │         \u001b[38;5;34m1,024\u001b[0m │\n",
       "│ (\u001b[38;5;33mBatchNormalization\u001b[0m)            │                        │               │\n",
       "├─────────────────────────────────┼────────────────────────┼───────────────┤\n",
       "│ dropout_2 (\u001b[38;5;33mDropout\u001b[0m)             │ (\u001b[38;5;45mNone\u001b[0m, \u001b[38;5;34m256\u001b[0m)            │             \u001b[38;5;34m0\u001b[0m │\n",
       "├─────────────────────────────────┼────────────────────────┼───────────────┤\n",
       "│ fc3 (\u001b[38;5;33mDense\u001b[0m)                     │ (\u001b[38;5;45mNone\u001b[0m, \u001b[38;5;34m128\u001b[0m)            │        \u001b[38;5;34m32,896\u001b[0m │\n",
       "├─────────────────────────────────┼────────────────────────┼───────────────┤\n",
       "│ batch_normalization_2           │ (\u001b[38;5;45mNone\u001b[0m, \u001b[38;5;34m128\u001b[0m)            │           \u001b[38;5;34m512\u001b[0m │\n",
       "│ (\u001b[38;5;33mBatchNormalization\u001b[0m)            │                        │               │\n",
       "├─────────────────────────────────┼────────────────────────┼───────────────┤\n",
       "│ dropout_3 (\u001b[38;5;33mDropout\u001b[0m)             │ (\u001b[38;5;45mNone\u001b[0m, \u001b[38;5;34m128\u001b[0m)            │             \u001b[38;5;34m0\u001b[0m │\n",
       "├─────────────────────────────────┼────────────────────────┼───────────────┤\n",
       "│ predictions (\u001b[38;5;33mDense\u001b[0m)             │ (\u001b[38;5;45mNone\u001b[0m, \u001b[38;5;34m10\u001b[0m)             │         \u001b[38;5;34m1,290\u001b[0m │\n",
       "└─────────────────────────────────┴────────────────────────┴───────────────┘\n"
      ]
     },
     "metadata": {},
     "output_type": "display_data"
    },
    {
     "data": {
      "text/html": [
       "<pre style=\"white-space:pre;overflow-x:auto;line-height:normal;font-family:Menlo,'DejaVu Sans Mono',consolas,'Courier New',monospace\"><span style=\"font-weight: bold\"> Total params: </span><span style=\"color: #00af00; text-decoration-color: #00af00\">24,805,898</span> (94.63 MB)\n",
       "</pre>\n"
      ],
      "text/plain": [
       "\u001b[1m Total params: \u001b[0m\u001b[38;5;34m24,805,898\u001b[0m (94.63 MB)\n"
      ]
     },
     "metadata": {},
     "output_type": "display_data"
    },
    {
     "data": {
      "text/html": [
       "<pre style=\"white-space:pre;overflow-x:auto;line-height:normal;font-family:Menlo,'DejaVu Sans Mono',consolas,'Courier New',monospace\"><span style=\"font-weight: bold\"> Trainable params: </span><span style=\"color: #00af00; text-decoration-color: #00af00\">2,272,138</span> (8.67 MB)\n",
       "</pre>\n"
      ],
      "text/plain": [
       "\u001b[1m Trainable params: \u001b[0m\u001b[38;5;34m2,272,138\u001b[0m (8.67 MB)\n"
      ]
     },
     "metadata": {},
     "output_type": "display_data"
    },
    {
     "data": {
      "text/html": [
       "<pre style=\"white-space:pre;overflow-x:auto;line-height:normal;font-family:Menlo,'DejaVu Sans Mono',consolas,'Courier New',monospace\"><span style=\"font-weight: bold\"> Non-trainable params: </span><span style=\"color: #00af00; text-decoration-color: #00af00\">22,533,760</span> (85.96 MB)\n",
       "</pre>\n"
      ],
      "text/plain": [
       "\u001b[1m Non-trainable params: \u001b[0m\u001b[38;5;34m22,533,760\u001b[0m (85.96 MB)\n"
      ]
     },
     "metadata": {},
     "output_type": "display_data"
    }
   ],
   "source": [
    "base = applications.ResNet50(\n",
    "    weights='imagenet',\n",
    "    include_top=False,\n",
    "    input_shape=input_shape   \n",
    ")\n",
    "\n",
    "# 2) Freeze early blocks, fine-tune later ones\n",
    "for layer in base.layers[:-6]:\n",
    "    layer.trainable = False\n",
    "print(f\"VGG16 base model loaded. Trainable: {base.trainable}\")\n",
    "\n",
    "\n",
    "# Create the new model head\n",
    "RN50_model = models.Sequential([\n",
    "    base,\n",
    "    layers.GlobalAveragePooling2D(name='global_avg_pool'),\n",
    "    layers.Dense(512, activation='relu', name='fc1'),\n",
    "    layers.BatchNormalization(),\n",
    "    layers.Dropout(0.5, name='dropout_1'), # Dropout for regularization\n",
    "    layers.Dense(256, activation='relu', name='fc2'),\n",
    "    layers.BatchNormalization(),\n",
    "    layers.Dropout(0.5, name='dropout_2'), # Dropout for regularization\n",
    "    layers.Dense(128, activation='relu', name='fc3'),\n",
    "    layers.BatchNormalization(),\n",
    "    layers.Dropout(0.5, name='dropout_3'), # Dropout for regularization\n",
    "    layers.Dense(num_classes, activation='softmax', name='predictions') # Output layer\n",
    "], name=\"VGG16_Transfer_Learning\")\n",
    "\n",
    "# --- Compile Model ---\n",
    "# Use Adam optimizer with a specific, smaller learning rate\n",
    "optimizer = Adam(learning_rate=0.0001) # 0.0001 learning rate\n",
    "\n",
    "RN50_model.compile(optimizer=optimizer,\n",
    "                    loss='sparse_categorical_crossentropy', # Use sparse CE with class_mode='sparse'\n",
    "                    metrics=['accuracy'])\n",
    "\n",
    "print(\"\\nModel Summary:\")\n",
    "RN50_model.summary()"
   ]
  },
  {
   "cell_type": "code",
   "execution_count": 26,
   "metadata": {},
   "outputs": [],
   "source": [
    "# --- Define Callbacks ---\n",
    "# Early stopping to prevent overfitting and stop training when val_loss stops improving\n",
    "early_stopping = EarlyStopping(\n",
    "    monitor='val_loss',\n",
    "    patience=5,          # Number of epochs with no improvement after which training will be stopped\n",
    "    verbose=1,\n",
    "    restore_best_weights=True # Restore model weights from the epoch with the best val_loss\n",
    ")\n",
    "\n",
    "# Model checkpoint to save the best model found during training\n",
    "model_checkpoint = ModelCheckpoint(\n",
    "    filepath='best_RN50_model.keras', # File path to save the model\n",
    "    monitor='val_loss',\n",
    "    save_best_only=True, # Only save a model if `val_loss` has improved\n",
    "    verbose=1\n",
    ")"
   ]
  },
  {
   "cell_type": "code",
   "execution_count": null,
   "metadata": {},
   "outputs": [
    {
     "name": "stdout",
     "output_type": "stream",
     "text": [
      "\n",
      "Starting training for up to 20 epochs (head only)...\n",
      "Epoch 1/20\n",
      "\u001b[1m434/443\u001b[0m \u001b[32m━━━━━━━━━━━━━━━━━━━\u001b[0m\u001b[37m━\u001b[0m \u001b[1m8s\u001b[0m 889ms/step - accuracy: 0.2314 - loss: 2.7277"
     ]
    }
   ],
   "source": [
    "# --- Train the Model (Head Only) ---\n",
    "print(f\"\\nStarting training for up to {num_epochs} epochs (head only)...\")\n",
    "history = RN50_model.fit(\n",
    "    train_generator,\n",
    "    steps_per_epoch=train_generator.samples // batch_size, # Ensure steps cover the dataset\n",
    "    validation_data=val_generator,\n",
    "    validation_steps=val_generator.samples // batch_size, # Ensure steps cover the dataset\n",
    "    epochs=num_epochs,\n",
    "    callbacks=[early_stopping, model_checkpoint] # Add the callbacks\n",
    ")\n",
    "\n",
    "print(\"\\nTraining finished.\")"
   ]
  },
  {
   "cell_type": "code",
   "execution_count": 17,
   "metadata": {},
   "outputs": [],
   "source": [
    "from tensorflow.keras.models import load_model\n",
    "model = load_model(r'D:\\FUCK!!\\Pattern\\Project\\Models\\best_vgg16_model.keras')"
   ]
  },
  {
   "cell_type": "code",
   "execution_count": null,
   "metadata": {},
   "outputs": [
    {
     "name": "stdout",
     "output_type": "stream",
     "text": [
      "Found 268 images belonging to 10 classes.\n"
     ]
    }
   ],
   "source": [
    "from tensorflow.keras.applications.vgg16 import preprocess_input\n",
    "from sklearn.metrics import classification_report, confusion_matrix\n",
    "\n",
    "# 1) Prepare a “pure” test generator (no augmentation, only the same preprocessing)\n",
    "test_datagen = ImageDataGenerator(preprocessing_function=preprocess_input)\n",
    "\n",
    "test_gen = test_datagen.flow_from_directory(\n",
    "    directory=r'D:/FUCK!!/Pattern/Project/notebooks/new_preprocessed_RGB_images/test',    # point this to your test‐folder \n",
    "    target_size=input_shape[:2],           # e.g. (224, 224)\n",
    "    batch_size=batch_size,\n",
    "    class_mode='sparse',\n",
    "    shuffle=False                           # important! so labels/preds align\n",
    ")"
   ]
  },
  {
   "cell_type": "code",
   "execution_count": null,
   "metadata": {},
   "outputs": [
    {
     "name": "stdout",
     "output_type": "stream",
     "text": [
      "WARNING:tensorflow:From c:\\Users\\omarn\\AppData\\Local\\Programs\\Python\\Python310\\lib\\site-packages\\keras\\src\\backend\\common\\global_state.py:82: The name tf.reset_default_graph is deprecated. Please use tf.compat.v1.reset_default_graph instead.\n",
      "\n",
      "\u001b[1m5/5\u001b[0m \u001b[32m━━━━━━━━━━━━━━━━━━━━\u001b[0m\u001b[37m\u001b[0m \u001b[1m5s\u001b[0m 860ms/step - accuracy: 0.7692 - loss: 0.6851\n",
      "\n",
      "Test loss: 0.7752 — Test accuracy: 0.7463\n"
     ]
    }
   ],
   "source": [
    "# 0) Clear any old graphs / functions\n",
    "tf.keras.backend.clear_session()\n",
    "\n",
    "# 1) Reload your .keras model\n",
    "model = load_model(r'D:\\FUCK!!\\Pattern\\Project\\Models\\best_vgg16_model.keras')\n",
    "\n",
    "# 2) Re-compile it with the correct loss and metrics, running eagerly\n",
    "model.compile(\n",
    "    optimizer=Adam(learning_rate=1e-4),\n",
    "    loss='sparse_categorical_crossentropy',\n",
    "    metrics=['accuracy'],\n",
    "    run_eagerly=True    # ← this disables the tf.function wrapping\n",
    ")\n",
    "\n",
    "# 3) Now evaluate on your test generator (no need to pass steps)\n",
    "loss, acc = model.evaluate(test_gen, verbose=1)\n",
    "print(f\"\\nTest loss: {loss:.4f} — Test accuracy: {acc:.4f}\")"
   ]
  },
  {
   "cell_type": "code",
   "execution_count": null,
   "metadata": {},
   "outputs": [
    {
     "name": "stdout",
     "output_type": "stream",
     "text": [
      "\u001b[1m5/5\u001b[0m \u001b[32m━━━━━━━━━━━━━━━━━━━━\u001b[0m\u001b[37m\u001b[0m \u001b[1m4s\u001b[0m 799ms/step\n",
      "\n",
      "Classification Report:\n",
      "\n",
      "                                  precision    recall  f1-score   support\n",
      "\n",
      "         Achaemenid architecture       0.88      0.93      0.90        40\n",
      "American Foursquare architecture       0.83      0.68      0.75        37\n",
      "        American craftsman style       0.55      0.76      0.64        21\n",
      "   Ancient Egyptian architecture       0.93      0.72      0.81        18\n",
      "           Art Deco architecture       0.82      0.58      0.68        24\n",
      "        Art Nouveau architecture       0.72      0.90      0.80        20\n",
      "            Baroque architecture       0.58      0.67      0.62        27\n",
      "            Bauhaus architecture       0.92      0.85      0.88        27\n",
      "         Beaux-Arts architecture       0.57      0.59      0.58        29\n",
      "          Byzantine architecture       0.76      0.76      0.76        25\n",
      "\n",
      "                        accuracy                           0.75       268\n",
      "                       macro avg       0.76      0.74      0.74       268\n",
      "                    weighted avg       0.76      0.75      0.75       268\n",
      "\n"
     ]
    }
   ],
   "source": [
    "# 3) (Optional) Get per‐class metrics\n",
    "#    - Predict class probabilities\n",
    "steps = int(np.ceil(test_gen.samples / batch_size))\n",
    "pred_probs = model.predict(\n",
    "    test_gen,\n",
    "    steps = steps,\n",
    "    verbose=1\n",
    ")\n",
    "#    - Turn them into predicted class indices\n",
    "pred_idxs = np.argmax(pred_probs, axis=1)\n",
    "true_idxs = test_gen.classes\n",
    "labels   = list(test_gen.class_indices.keys())\n",
    "\n",
    "#    - Classification report\n",
    "print(\"\\nClassification Report:\\n\")\n",
    "print(classification_report(true_idxs, pred_idxs, target_names=labels))\n",
    "\n"
   ]
  },
  {
   "cell_type": "code",
   "execution_count": null,
   "metadata": {},
   "outputs": [
    {
     "data": {
      "image/png": "[encoded data removed]",
      "text/plain": [
       "<Figure size 640x480 with 1 Axes>"
      ]
     },
     "metadata": {},
     "output_type": "display_data"
    }
   ],
   "source": [
    "import matplotlib.pyplot as plt\n",
    "\n",
    "plt.plot(history.history['accuracy'], label='accuracy')\n",
    "plt.plot(history.history['val_accuracy'], label='val_accuracy')\n",
    "plt.legend(); plt.show()"
   ]
  },
  {
   "cell_type": "code",
   "execution_count": null,
   "metadata": {},
   "outputs": [
    {
     "data": {
      "image/png": "[encoded data removed]",
      "text/plain": [
       "<Figure size 640x480 with 1 Axes>"
      ]
     },
     "metadata": {},
     "output_type": "display_data"
    }
   ],
   "source": [
    "import matplotlib.pyplot as plt\n",
    "\n",
    "plt.plot(history.history['loss'], label='train_loss')\n",
    "plt.plot(history.history['val_loss'], label='val_loss')\n",
    "plt.legend(); plt.show()\n"
   ]
  }
 ],
 "metadata": {
  "kernelspec": {
   "display_name": "Python 3",
   "language": "python",
   "name": "python3"
  },
  "language_info": {
   "codemirror_mode": {
    "name": "ipython",
    "version": 3
   },
   "file_extension": ".py",
   "mimetype": "text/x-python",
   "name": "python",
   "nbconvert_exporter": "python",
   "pygments_lexer": "ipython3",
   "version": "3.10.0"
  }
 },
 "nbformat": 4,
 "nbformat_minor": 2
}
