{
 "cells": [
  {
   "cell_type": "code",
   "execution_count": 2,
   "metadata": {},
   "outputs": [],
   "source": [
    "import numpy as np\n",
    "import tensorflow as tf\n",
    "from tensorflow.keras import layers, models, applications\n",
    "from tensorflow.keras.preprocessing.image import ImageDataGenerator\n",
    "from tensorflow.keras.callbacks import EarlyStopping, ModelCheckpoint\n",
    "from tensorflow.keras.optimizers import Adam\n",
    "from tensorflow.keras.applications.resnet50 import preprocess_input\n",
    "import os\n",
    "import pandas as pd\n",
    "import cv2"
   ]
  },
  {
   "cell_type": "code",
   "execution_count": 60,
   "metadata": {},
   "outputs": [],
   "source": [
    "input_shape = (128, 128, 3)  # Standard VGG16 RGB input\n",
    "batch_size = 64\n",
    "num_epochs = 50 # Set a higher number of epochs, EarlyStopping will handle the actual stop"
   ]
  },
  {
   "cell_type": "code",
   "execution_count": 4,
   "metadata": {},
   "outputs": [
    {
     "name": "stdout",
     "output_type": "stream",
     "text": [
      "Setting up Training Generator...\n",
      "Found 30580 images belonging to 10 classes.\n",
      "Found 30580 images belonging to 10 classes in training set.\n",
      "\n",
      "Setting up Validation Generator...\n",
      "Found 328 images belonging to 10 classes.\n",
      "Found 328 images belonging to 10 classes in validation set.\n",
      "\n",
      "Setting up Testing Generator...\n",
      "Found 328 images belonging to 10 classes.\n",
      "Found 328 images belonging to 10 classes in validation set.\n"
     ]
    }
   ],
   "source": [
    "preprocessed_path = r\"D:\\FUCK!!\\Pattern\\Project\\notebooks\\preprocessed_RGB_images\"\n",
    "\n",
    "# “val_dir” is the root of your test/validation folder\n",
    "train_datagen = ImageDataGenerator(preprocessing_function=preprocess_input)\n",
    "\n",
    "print(\"Setting up Training Generator...\")\n",
    "train_generator = train_datagen.flow_from_directory(\n",
    "    os.path.join(preprocessed_path, 'train'),\n",
    "    target_size=input_shape[:2], # Use (224, 224)\n",
    "    batch_size=batch_size,\n",
    "    class_mode='sparse',         # Use sparse for sparse_categorical_crossentropy\n",
    "    color_mode='rgb',\n",
    "    shuffle=True             # Ensure images are loaded as RGB\n",
    ")\n",
    "print(f\"Found {train_generator.samples} images belonging to {train_generator.num_classes} classes in training set.\")\n",
    "\n",
    "print(\"\\nSetting up Validation Generator...\")\n",
    "val_generator = train_datagen.flow_from_directory(\n",
    "    os.path.join(preprocessed_path, 'val'),\n",
    "    target_size=input_shape[:2], # Use (224, 224)\n",
    "    batch_size=batch_size,\n",
    "    class_mode='sparse',         # Use sparse for sparse_categorical_crossentropy\n",
    "    color_mode='rgb',            # Ensure images are loaded as RGB\n",
    "    shuffle=False                # No need to shuffle validation data\n",
    ")\n",
    "print(f\"Found {val_generator.samples} images belonging to {val_generator.num_classes} classes in validation set.\")\n",
    "\n",
    "print(\"\\nSetting up Testing Generator...\")\n",
    "test_generator = train_datagen.flow_from_directory(\n",
    "    os.path.join(preprocessed_path, 'test'),\n",
    "    target_size=input_shape[:2], # Use (224, 224)\n",
    "    batch_size=batch_size,\n",
    "    class_mode='sparse',         # Use sparse for sparse_categorical_crossentropy\n",
    "    color_mode='rgb',            # Ensure images are loaded as RGB\n",
    "    shuffle=False                # No need to shuffle validation data\n",
    ")\n",
    "print(f\"Found {test_generator.samples} images belonging to {test_generator.num_classes} classes in validation set.\")\n"
   ]
  },
  {
   "cell_type": "code",
   "execution_count": 70,
   "metadata": {},
   "outputs": [
    {
     "name": "stdout",
     "output_type": "stream",
     "text": [
      "RN50 base model loaded. Trainable: True\n",
      "\n",
      "Model Summary:\n"
     ]
    },
    {
     "data": {
      "text/html": [
       "<pre style=\"white-space:pre;overflow-x:auto;line-height:normal;font-family:Menlo,'DejaVu Sans Mono',consolas,'Courier New',monospace\"><span style=\"font-weight: bold\">Model: \"VGG16_Transfer_Learning\"</span>\n",
       "</pre>\n"
      ],
      "text/plain": [
       "\u001b[1mModel: \"VGG16_Transfer_Learning\"\u001b[0m\n"
      ]
     },
     "metadata": {},
     "output_type": "display_data"
    },
    {
     "data": {
      "text/html": [
       "<pre style=\"white-space:pre;overflow-x:auto;line-height:normal;font-family:Menlo,'DejaVu Sans Mono',consolas,'Courier New',monospace\">┏━━━━━━━━━━━━━━━━━━━━━━━━━━━━━━━━━┳━━━━━━━━━━━━━━━━━━━━━━━━┳━━━━━━━━━━━━━━━┓\n",
       "┃<span style=\"font-weight: bold\"> Layer (type)                    </span>┃<span style=\"font-weight: bold\"> Output Shape           </span>┃<span style=\"font-weight: bold\">       Param # </span>┃\n",
       "┡━━━━━━━━━━━━━━━━━━━━━━━━━━━━━━━━━╇━━━━━━━━━━━━━━━━━━━━━━━━╇━━━━━━━━━━━━━━━┩\n",
       "│ resnet50 (<span style=\"color: #0087ff; text-decoration-color: #0087ff\">Functional</span>)           │ (<span style=\"color: #00d7ff; text-decoration-color: #00d7ff\">None</span>, <span style=\"color: #00af00; text-decoration-color: #00af00\">4</span>, <span style=\"color: #00af00; text-decoration-color: #00af00\">4</span>, <span style=\"color: #00af00; text-decoration-color: #00af00\">2048</span>)     │    <span style=\"color: #00af00; text-decoration-color: #00af00\">23,587,712</span> │\n",
       "├─────────────────────────────────┼────────────────────────┼───────────────┤\n",
       "│ global_avg_pool                 │ (<span style=\"color: #00d7ff; text-decoration-color: #00d7ff\">None</span>, <span style=\"color: #00af00; text-decoration-color: #00af00\">2048</span>)           │             <span style=\"color: #00af00; text-decoration-color: #00af00\">0</span> │\n",
       "│ (<span style=\"color: #0087ff; text-decoration-color: #0087ff\">GlobalAveragePooling2D</span>)        │                        │               │\n",
       "├─────────────────────────────────┼────────────────────────┼───────────────┤\n",
       "│ fc1 (<span style=\"color: #0087ff; text-decoration-color: #0087ff\">Dense</span>)                     │ (<span style=\"color: #00d7ff; text-decoration-color: #00d7ff\">None</span>, <span style=\"color: #00af00; text-decoration-color: #00af00\">512</span>)            │     <span style=\"color: #00af00; text-decoration-color: #00af00\">1,049,088</span> │\n",
       "├─────────────────────────────────┼────────────────────────┼───────────────┤\n",
       "│ batch_normalization             │ (<span style=\"color: #00d7ff; text-decoration-color: #00d7ff\">None</span>, <span style=\"color: #00af00; text-decoration-color: #00af00\">512</span>)            │         <span style=\"color: #00af00; text-decoration-color: #00af00\">2,048</span> │\n",
       "│ (<span style=\"color: #0087ff; text-decoration-color: #0087ff\">BatchNormalization</span>)            │                        │               │\n",
       "├─────────────────────────────────┼────────────────────────┼───────────────┤\n",
       "│ dropout_1 (<span style=\"color: #0087ff; text-decoration-color: #0087ff\">Dropout</span>)             │ (<span style=\"color: #00d7ff; text-decoration-color: #00d7ff\">None</span>, <span style=\"color: #00af00; text-decoration-color: #00af00\">512</span>)            │             <span style=\"color: #00af00; text-decoration-color: #00af00\">0</span> │\n",
       "├─────────────────────────────────┼────────────────────────┼───────────────┤\n",
       "│ fc2 (<span style=\"color: #0087ff; text-decoration-color: #0087ff\">Dense</span>)                     │ (<span style=\"color: #00d7ff; text-decoration-color: #00d7ff\">None</span>, <span style=\"color: #00af00; text-decoration-color: #00af00\">256</span>)            │       <span style=\"color: #00af00; text-decoration-color: #00af00\">131,328</span> │\n",
       "├─────────────────────────────────┼────────────────────────┼───────────────┤\n",
       "│ batch_normalization_1           │ (<span style=\"color: #00d7ff; text-decoration-color: #00d7ff\">None</span>, <span style=\"color: #00af00; text-decoration-color: #00af00\">256</span>)            │         <span style=\"color: #00af00; text-decoration-color: #00af00\">1,024</span> │\n",
       "│ (<span style=\"color: #0087ff; text-decoration-color: #0087ff\">BatchNormalization</span>)            │                        │               │\n",
       "├─────────────────────────────────┼────────────────────────┼───────────────┤\n",
       "│ dropout_2 (<span style=\"color: #0087ff; text-decoration-color: #0087ff\">Dropout</span>)             │ (<span style=\"color: #00d7ff; text-decoration-color: #00d7ff\">None</span>, <span style=\"color: #00af00; text-decoration-color: #00af00\">256</span>)            │             <span style=\"color: #00af00; text-decoration-color: #00af00\">0</span> │\n",
       "├─────────────────────────────────┼────────────────────────┼───────────────┤\n",
       "│ fc3 (<span style=\"color: #0087ff; text-decoration-color: #0087ff\">Dense</span>)                     │ (<span style=\"color: #00d7ff; text-decoration-color: #00d7ff\">None</span>, <span style=\"color: #00af00; text-decoration-color: #00af00\">128</span>)            │        <span style=\"color: #00af00; text-decoration-color: #00af00\">32,896</span> │\n",
       "├─────────────────────────────────┼────────────────────────┼───────────────┤\n",
       "│ batch_normalization_2           │ (<span style=\"color: #00d7ff; text-decoration-color: #00d7ff\">None</span>, <span style=\"color: #00af00; text-decoration-color: #00af00\">128</span>)            │           <span style=\"color: #00af00; text-decoration-color: #00af00\">512</span> │\n",
       "│ (<span style=\"color: #0087ff; text-decoration-color: #0087ff\">BatchNormalization</span>)            │                        │               │\n",
       "├─────────────────────────────────┼────────────────────────┼───────────────┤\n",
       "│ dropout_3 (<span style=\"color: #0087ff; text-decoration-color: #0087ff\">Dropout</span>)             │ (<span style=\"color: #00d7ff; text-decoration-color: #00d7ff\">None</span>, <span style=\"color: #00af00; text-decoration-color: #00af00\">128</span>)            │             <span style=\"color: #00af00; text-decoration-color: #00af00\">0</span> │\n",
       "├─────────────────────────────────┼────────────────────────┼───────────────┤\n",
       "│ predictions (<span style=\"color: #0087ff; text-decoration-color: #0087ff\">Dense</span>)             │ (<span style=\"color: #00d7ff; text-decoration-color: #00d7ff\">None</span>, <span style=\"color: #00af00; text-decoration-color: #00af00\">10</span>)             │         <span style=\"color: #00af00; text-decoration-color: #00af00\">1,290</span> │\n",
       "└─────────────────────────────────┴────────────────────────┴───────────────┘\n",
       "</pre>\n"
      ],
      "text/plain": [
       "┏━━━━━━━━━━━━━━━━━━━━━━━━━━━━━━━━━┳━━━━━━━━━━━━━━━━━━━━━━━━┳━━━━━━━━━━━━━━━┓\n",
       "┃\u001b[1m \u001b[0m\u001b[1mLayer (type)                   \u001b[0m\u001b[1m \u001b[0m┃\u001b[1m \u001b[0m\u001b[1mOutput Shape          \u001b[0m\u001b[1m \u001b[0m┃\u001b[1m \u001b[0m\u001b[1m      Param #\u001b[0m\u001b[1m \u001b[0m┃\n",
       "┡━━━━━━━━━━━━━━━━━━━━━━━━━━━━━━━━━╇━━━━━━━━━━━━━━━━━━━━━━━━╇━━━━━━━━━━━━━━━┩\n",
       "│ resnet50 (\u001b[38;5;33mFunctional\u001b[0m)           │ (\u001b[38;5;45mNone\u001b[0m, \u001b[38;5;34m4\u001b[0m, \u001b[38;5;34m4\u001b[0m, \u001b[38;5;34m2048\u001b[0m)     │    \u001b[38;5;34m23,587,712\u001b[0m │\n",
       "├─────────────────────────────────┼────────────────────────┼───────────────┤\n",
       "│ global_avg_pool                 │ (\u001b[38;5;45mNone\u001b[0m, \u001b[38;5;34m2048\u001b[0m)           │             \u001b[38;5;34m0\u001b[0m │\n",
       "│ (\u001b[38;5;33mGlobalAveragePooling2D\u001b[0m)        │                        │               │\n",
       "├─────────────────────────────────┼────────────────────────┼───────────────┤\n",
       "│ fc1 (\u001b[38;5;33mDense\u001b[0m)                     │ (\u001b[38;5;45mNone\u001b[0m, \u001b[38;5;34m512\u001b[0m)            │     \u001b[38;5;34m1,049,088\u001b[0m │\n",
       "├─────────────────────────────────┼────────────────────────┼───────────────┤\n",
       "│ batch_normalization             │ (\u001b[38;5;45mNone\u001b[0m, \u001b[38;5;34m512\u001b[0m)            │         \u001b[38;5;34m2,048\u001b[0m │\n",
       "│ (\u001b[38;5;33mBatchNormalization\u001b[0m)            │                        │               │\n",
       "├─────────────────────────────────┼────────────────────────┼───────────────┤\n",
       "│ dropout_1 (\u001b[38;5;33mDropout\u001b[0m)             │ (\u001b[38;5;45mNone\u001b[0m, \u001b[38;5;34m512\u001b[0m)            │             \u001b[38;5;34m0\u001b[0m │\n",
       "├─────────────────────────────────┼────────────────────────┼───────────────┤\n",
       "│ fc2 (\u001b[38;5;33mDense\u001b[0m)                     │ (\u001b[38;5;45mNone\u001b[0m, \u001b[38;5;34m256\u001b[0m)            │       \u001b[38;5;34m131,328\u001b[0m │\n",
       "├─────────────────────────────────┼────────────────────────┼───────────────┤\n",
       "│ batch_normalization_1           │ (\u001b[38;5;45mNone\u001b[0m, \u001b[38;5;34m256\u001b[0m)            │         \u001b[38;5;34m1,024\u001b[0m │\n",
       "│ (\u001b[38;5;33mBatchNormalization\u001b[0m)            │                        │               │\n",
       "├─────────────────────────────────┼────────────────────────┼───────────────┤\n",
       "│ dropout_2 (\u001b[38;5;33mDropout\u001b[0m)             │ (\u001b[38;5;45mNone\u001b[0m, \u001b[38;5;34m256\u001b[0m)            │             \u001b[38;5;34m0\u001b[0m │\n",
       "├─────────────────────────────────┼────────────────────────┼───────────────┤\n",
       "│ fc3 (\u001b[38;5;33mDense\u001b[0m)                     │ (\u001b[38;5;45mNone\u001b[0m, \u001b[38;5;34m128\u001b[0m)            │        \u001b[38;5;34m32,896\u001b[0m │\n",
       "├─────────────────────────────────┼────────────────────────┼───────────────┤\n",
       "│ batch_normalization_2           │ (\u001b[38;5;45mNone\u001b[0m, \u001b[38;5;34m128\u001b[0m)            │           \u001b[38;5;34m512\u001b[0m │\n",
       "│ (\u001b[38;5;33mBatchNormalization\u001b[0m)            │                        │               │\n",
       "├─────────────────────────────────┼────────────────────────┼───────────────┤\n",
       "│ dropout_3 (\u001b[38;5;33mDropout\u001b[0m)             │ (\u001b[38;5;45mNone\u001b[0m, \u001b[38;5;34m128\u001b[0m)            │             \u001b[38;5;34m0\u001b[0m │\n",
       "├─────────────────────────────────┼────────────────────────┼───────────────┤\n",
       "│ predictions (\u001b[38;5;33mDense\u001b[0m)             │ (\u001b[38;5;45mNone\u001b[0m, \u001b[38;5;34m10\u001b[0m)             │         \u001b[38;5;34m1,290\u001b[0m │\n",
       "└─────────────────────────────────┴────────────────────────┴───────────────┘\n"
      ]
     },
     "metadata": {},
     "output_type": "display_data"
    },
    {
     "data": {
      "text/html": [
       "<pre style=\"white-space:pre;overflow-x:auto;line-height:normal;font-family:Menlo,'DejaVu Sans Mono',consolas,'Courier New',monospace\"><span style=\"font-weight: bold\"> Total params: </span><span style=\"color: #00af00; text-decoration-color: #00af00\">24,805,898</span> (94.63 MB)\n",
       "</pre>\n"
      ],
      "text/plain": [
       "\u001b[1m Total params: \u001b[0m\u001b[38;5;34m24,805,898\u001b[0m (94.63 MB)\n"
      ]
     },
     "metadata": {},
     "output_type": "display_data"
    },
    {
     "data": {
      "text/html": [
       "<pre style=\"white-space:pre;overflow-x:auto;line-height:normal;font-family:Menlo,'DejaVu Sans Mono',consolas,'Courier New',monospace\"><span style=\"font-weight: bold\"> Trainable params: </span><span style=\"color: #00af00; text-decoration-color: #00af00\">5,686,154</span> (21.69 MB)\n",
       "</pre>\n"
      ],
      "text/plain": [
       "\u001b[1m Trainable params: \u001b[0m\u001b[38;5;34m5,686,154\u001b[0m (21.69 MB)\n"
      ]
     },
     "metadata": {},
     "output_type": "display_data"
    },
    {
     "data": {
      "text/html": [
       "<pre style=\"white-space:pre;overflow-x:auto;line-height:normal;font-family:Menlo,'DejaVu Sans Mono',consolas,'Courier New',monospace\"><span style=\"font-weight: bold\"> Non-trainable params: </span><span style=\"color: #00af00; text-decoration-color: #00af00\">19,119,744</span> (72.94 MB)\n",
       "</pre>\n"
      ],
      "text/plain": [
       "\u001b[1m Non-trainable params: \u001b[0m\u001b[38;5;34m19,119,744\u001b[0m (72.94 MB)\n"
      ]
     },
     "metadata": {},
     "output_type": "display_data"
    }
   ],
   "source": [
    "base = applications.ResNet50(\n",
    "    weights='imagenet',\n",
    "    include_top=False,\n",
    "    input_shape=input_shape   \n",
    ")\n",
    "\n",
    "# 2) Freeze early blocks, fine-tune later ones\n",
    "for layer in base.layers[:-13]:\n",
    "    layer.trainable = False\n",
    "print(f\"RN50 base model loaded. Trainable: {base.trainable}\")\n",
    "\n",
    "\n",
    "# Create the new model head\n",
    "RN50_model = models.Sequential([\n",
    "    base,\n",
    "    layers.GlobalAveragePooling2D(name='global_avg_pool'),\n",
    "    layers.Dense(512, activation='relu', name='fc1'),\n",
    "    layers.BatchNormalization(),\n",
    "    layers.Dropout(0.75, name='dropout_1'), # Dropout for regularization\n",
    "    layers.Dense(256, activation='relu', name='fc2'),\n",
    "    layers.BatchNormalization(),\n",
    "    layers.Dropout(0.75, name='dropout_2'), # Dropout for regularization\n",
    "    layers.Dense(128, activation='relu', name='fc3'),\n",
    "    layers.BatchNormalization(),\n",
    "    layers.Dropout(0.75, name='dropout_3'), # Dropout for regularization\n",
    "    layers.Dense(10, activation='softmax', name='predictions') # Output layer\n",
    "], name=\"VGG16_Transfer_Learning\")\n",
    "\n",
    "# --- Compile Model ---\n",
    "# Use Adam optimizer with a specific, smaller learning rate\n",
    "optimizer = Adam(learning_rate=0.0001) # 0.0001 learning rate\n",
    "\n",
    "RN50_model.compile(optimizer=optimizer,\n",
    "                    loss='sparse_categorical_crossentropy', # Use sparse CE with class_mode='sparse'\n",
    "                    metrics=['accuracy'])\n",
    "\n",
    "print(\"\\nModel Summary:\")\n",
    "RN50_model.summary()"
   ]
  },
  {
   "cell_type": "code",
   "execution_count": 23,
   "metadata": {},
   "outputs": [],
   "source": [
    "# --- Define Callbacks ---\n",
    "# Early stopping to prevent overfitting and stop training when val_loss stops improving\n",
    "early_stopping = EarlyStopping(\n",
    "    monitor='val_loss',\n",
    "    patience=5,          # Number of epochs with no improvement after which training will be stopped\n",
    "    verbose=1,\n",
    "    restore_best_weights=True # Restore model weights from the epoch with the best val_loss\n",
    ")\n",
    "\n",
    "# Model checkpoint to save the best model found during training\n",
    "model_checkpoint = ModelCheckpoint(\n",
    "    filepath='best_RN50_model.keras', # File path to save the model\n",
    "    monitor='val_loss',\n",
    "    save_best_only=True, # Only save a model if `val_loss` has improved\n",
    "    verbose=1\n",
    ")"
   ]
  },
  {
   "cell_type": "code",
   "execution_count": 61,
   "metadata": {},
   "outputs": [
    {
     "name": "stdout",
     "output_type": "stream",
     "text": [
      "\n",
      "Starting training for up to 50 epochs (head only)...\n",
      "Epoch 1/50\n",
      "\u001b[1m477/477\u001b[0m \u001b[32m━━━━━━━━━━━━━━━━━━━━\u001b[0m\u001b[37m\u001b[0m \u001b[1m0s\u001b[0m 600ms/step - accuracy: 0.1217 - loss: 4.2602\n",
      "Epoch 1: val_loss did not improve from 0.71335\n",
      "\u001b[1m477/477\u001b[0m \u001b[32m━━━━━━━━━━━━━━━━━━━━\u001b[0m\u001b[37m\u001b[0m \u001b[1m297s\u001b[0m 609ms/step - accuracy: 0.1218 - loss: 4.2595 - val_accuracy: 0.5406 - val_loss: 1.3360\n",
      "Epoch 2/50\n",
      "\u001b[1m  1/477\u001b[0m \u001b[37m━━━━━━━━━━━━━━━━━━━━\u001b[0m \u001b[1m4:35\u001b[0m 578ms/step - accuracy: 0.1562 - loss: 3.5777"
     ]
    },
    {
     "name": "stderr",
     "output_type": "stream",
     "text": [
      "c:\\Users\\omarn\\AppData\\Local\\Programs\\Python\\Python310\\lib\\site-packages\\keras\\src\\trainers\\epoch_iterator.py:107: UserWarning: Your input ran out of data; interrupting training. Make sure that your dataset or generator can generate at least `steps_per_epoch * epochs` batches. You may need to use the `.repeat()` function when building your dataset.\n",
      "  self._interrupted_warning()\n"
     ]
    },
    {
     "name": "stdout",
     "output_type": "stream",
     "text": [
      "\n",
      "Epoch 2: val_loss did not improve from 0.71335\n",
      "\u001b[1m477/477\u001b[0m \u001b[32m━━━━━━━━━━━━━━━━━━━━\u001b[0m\u001b[37m\u001b[0m \u001b[1m3s\u001b[0m 6ms/step - accuracy: 0.1562 - loss: 3.5777 - val_accuracy: 0.5469 - val_loss: 1.3332\n",
      "Epoch 3/50\n",
      "\u001b[1m477/477\u001b[0m \u001b[32m━━━━━━━━━━━━━━━━━━━━\u001b[0m\u001b[37m\u001b[0m \u001b[1m0s\u001b[0m 565ms/step - accuracy: 0.2272 - loss: 2.9753\n",
      "Epoch 3: val_loss did not improve from 0.71335\n",
      "\u001b[1m477/477\u001b[0m \u001b[32m━━━━━━━━━━━━━━━━━━━━\u001b[0m\u001b[37m\u001b[0m \u001b[1m272s\u001b[0m 571ms/step - accuracy: 0.2272 - loss: 2.9748 - val_accuracy: 0.6313 - val_loss: 1.0363\n",
      "Epoch 4/50\n",
      "\u001b[1m  1/477\u001b[0m \u001b[37m━━━━━━━━━━━━━━━━━━━━\u001b[0m \u001b[1m4:25\u001b[0m 558ms/step - accuracy: 0.2969 - loss: 2.1764\n",
      "Epoch 4: val_loss did not improve from 0.71335\n",
      "\u001b[1m477/477\u001b[0m \u001b[32m━━━━━━━━━━━━━━━━━━━━\u001b[0m\u001b[37m\u001b[0m \u001b[1m3s\u001b[0m 5ms/step - accuracy: 0.2969 - loss: 2.1764 - val_accuracy: 0.6313 - val_loss: 1.0356\n",
      "Epoch 5/50\n",
      "\u001b[1m477/477\u001b[0m \u001b[32m━━━━━━━━━━━━━━━━━━━━\u001b[0m\u001b[37m\u001b[0m \u001b[1m0s\u001b[0m 553ms/step - accuracy: 0.3503 - loss: 2.1228\n",
      "Epoch 5: val_loss did not improve from 0.71335\n",
      "\u001b[1m477/477\u001b[0m \u001b[32m━━━━━━━━━━━━━━━━━━━━\u001b[0m\u001b[37m\u001b[0m \u001b[1m266s\u001b[0m 558ms/step - accuracy: 0.3503 - loss: 2.1226 - val_accuracy: 0.6875 - val_loss: 0.9263\n",
      "Epoch 6/50\n",
      "\u001b[1m  1/477\u001b[0m \u001b[37m━━━━━━━━━━━━━━━━━━━━\u001b[0m \u001b[1m4:23\u001b[0m 554ms/step - accuracy: 0.3281 - loss: 1.8159\n",
      "Epoch 6: val_loss did not improve from 0.71335\n",
      "\u001b[1m477/477\u001b[0m \u001b[32m━━━━━━━━━━━━━━━━━━━━\u001b[0m\u001b[37m\u001b[0m \u001b[1m3s\u001b[0m 5ms/step - accuracy: 0.3281 - loss: 1.8159 - val_accuracy: 0.6906 - val_loss: 0.9255\n",
      "Epoch 7/50\n",
      "\u001b[1m477/477\u001b[0m \u001b[32m━━━━━━━━━━━━━━━━━━━━\u001b[0m\u001b[37m\u001b[0m \u001b[1m0s\u001b[0m 550ms/step - accuracy: 0.4507 - loss: 1.6366\n",
      "Epoch 7: val_loss did not improve from 0.71335\n",
      "\u001b[1m477/477\u001b[0m \u001b[32m━━━━━━━━━━━━━━━━━━━━\u001b[0m\u001b[37m\u001b[0m \u001b[1m265s\u001b[0m 555ms/step - accuracy: 0.4507 - loss: 1.6364 - val_accuracy: 0.7188 - val_loss: 0.7828\n",
      "Epoch 8/50\n",
      "\u001b[1m  1/477\u001b[0m \u001b[37m━━━━━━━━━━━━━━━━━━━━\u001b[0m \u001b[1m4:32\u001b[0m 573ms/step - accuracy: 0.5625 - loss: 1.4192\n",
      "Epoch 8: val_loss did not improve from 0.71335\n",
      "\u001b[1m477/477\u001b[0m \u001b[32m━━━━━━━━━━━━━━━━━━━━\u001b[0m\u001b[37m\u001b[0m \u001b[1m3s\u001b[0m 5ms/step - accuracy: 0.5625 - loss: 1.4192 - val_accuracy: 0.7188 - val_loss: 0.7828\n",
      "Epoch 9/50\n",
      "\u001b[1m477/477\u001b[0m \u001b[32m━━━━━━━━━━━━━━━━━━━━\u001b[0m\u001b[37m\u001b[0m \u001b[1m0s\u001b[0m 553ms/step - accuracy: 0.5506 - loss: 1.2631\n",
      "Epoch 9: val_loss improved from 0.71335 to 0.70768, saving model to best_RN50_model.keras\n",
      "\u001b[1m477/477\u001b[0m \u001b[32m━━━━━━━━━━━━━━━━━━━━\u001b[0m\u001b[37m\u001b[0m \u001b[1m269s\u001b[0m 565ms/step - accuracy: 0.5507 - loss: 1.2630 - val_accuracy: 0.7312 - val_loss: 0.7077\n",
      "Epoch 10/50\n",
      "\u001b[1m  1/477\u001b[0m \u001b[37m━━━━━━━━━━━━━━━━━━━━\u001b[0m \u001b[1m5:21\u001b[0m 675ms/step - accuracy: 0.6406 - loss: 0.9349\n",
      "Epoch 10: val_loss improved from 0.70768 to 0.70535, saving model to best_RN50_model.keras\n",
      "\u001b[1m477/477\u001b[0m \u001b[32m━━━━━━━━━━━━━━━━━━━━\u001b[0m\u001b[37m\u001b[0m \u001b[1m6s\u001b[0m 12ms/step - accuracy: 0.6406 - loss: 0.9349 - val_accuracy: 0.7406 - val_loss: 0.7053\n",
      "Epoch 11/50\n",
      "\u001b[1m477/477\u001b[0m \u001b[32m━━━━━━━━━━━━━━━━━━━━\u001b[0m\u001b[37m\u001b[0m \u001b[1m0s\u001b[0m 641ms/step - accuracy: 0.6425 - loss: 0.9944\n",
      "Epoch 11: val_loss improved from 0.70535 to 0.68741, saving model to best_RN50_model.keras\n",
      "\u001b[1m477/477\u001b[0m \u001b[32m━━━━━━━━━━━━━━━━━━━━\u001b[0m\u001b[37m\u001b[0m \u001b[1m311s\u001b[0m 652ms/step - accuracy: 0.6426 - loss: 0.9942 - val_accuracy: 0.7406 - val_loss: 0.6874\n",
      "Epoch 12/50\n",
      "\u001b[1m  1/477\u001b[0m \u001b[37m━━━━━━━━━━━━━━━━━━━━\u001b[0m \u001b[1m4:38\u001b[0m 586ms/step - accuracy: 0.7031 - loss: 0.8898\n",
      "Epoch 12: val_loss did not improve from 0.68741\n",
      "\u001b[1m477/477\u001b[0m \u001b[32m━━━━━━━━━━━━━━━━━━━━\u001b[0m\u001b[37m\u001b[0m \u001b[1m3s\u001b[0m 6ms/step - accuracy: 0.7031 - loss: 0.8898 - val_accuracy: 0.7406 - val_loss: 0.6878\n",
      "Epoch 13/50\n",
      "\u001b[1m477/477\u001b[0m \u001b[32m━━━━━━━━━━━━━━━━━━━━\u001b[0m\u001b[37m\u001b[0m \u001b[1m0s\u001b[0m 620ms/step - accuracy: 0.7277 - loss: 0.7572\n",
      "Epoch 13: val_loss improved from 0.68741 to 0.65957, saving model to best_RN50_model.keras\n",
      "\u001b[1m477/477\u001b[0m \u001b[32m━━━━━━━━━━━━━━━━━━━━\u001b[0m\u001b[37m\u001b[0m \u001b[1m301s\u001b[0m 631ms/step - accuracy: 0.7277 - loss: 0.7571 - val_accuracy: 0.7656 - val_loss: 0.6596\n",
      "Epoch 14/50\n",
      "\u001b[1m  1/477\u001b[0m \u001b[37m━━━━━━━━━━━━━━━━━━━━\u001b[0m \u001b[1m4:35\u001b[0m 579ms/step - accuracy: 0.7656 - loss: 0.6309\n",
      "Epoch 14: val_loss improved from 0.65957 to 0.65820, saving model to best_RN50_model.keras\n",
      "\u001b[1m477/477\u001b[0m \u001b[32m━━━━━━━━━━━━━━━━━━━━\u001b[0m\u001b[37m\u001b[0m \u001b[1m6s\u001b[0m 11ms/step - accuracy: 0.7656 - loss: 0.6309 - val_accuracy: 0.7625 - val_loss: 0.6582\n",
      "Epoch 15/50\n",
      "\u001b[1m477/477\u001b[0m \u001b[32m━━━━━━━━━━━━━━━━━━━━\u001b[0m\u001b[37m\u001b[0m \u001b[1m0s\u001b[0m 620ms/step - accuracy: 0.8119 - loss: 0.5491\n",
      "Epoch 15: val_loss did not improve from 0.65820\n",
      "\u001b[1m477/477\u001b[0m \u001b[32m━━━━━━━━━━━━━━━━━━━━\u001b[0m\u001b[37m\u001b[0m \u001b[1m298s\u001b[0m 626ms/step - accuracy: 0.8119 - loss: 0.5491 - val_accuracy: 0.7500 - val_loss: 0.6598\n",
      "Epoch 16/50\n",
      "\u001b[1m  1/477\u001b[0m \u001b[37m━━━━━━━━━━━━━━━━━━━━\u001b[0m \u001b[1m5:01\u001b[0m 634ms/step - accuracy: 0.8438 - loss: 0.5505\n",
      "Epoch 16: val_loss did not improve from 0.65820\n",
      "\u001b[1m477/477\u001b[0m \u001b[32m━━━━━━━━━━━━━━━━━━━━\u001b[0m\u001b[37m\u001b[0m \u001b[1m3s\u001b[0m 6ms/step - accuracy: 0.8438 - loss: 0.5505 - val_accuracy: 0.7531 - val_loss: 0.6590\n",
      "Epoch 17/50\n",
      "\u001b[1m477/477\u001b[0m \u001b[32m━━━━━━━━━━━━━━━━━━━━\u001b[0m\u001b[37m\u001b[0m \u001b[1m0s\u001b[0m 639ms/step - accuracy: 0.8707 - loss: 0.4123\n",
      "Epoch 17: val_loss did not improve from 0.65820\n",
      "\u001b[1m477/477\u001b[0m \u001b[32m━━━━━━━━━━━━━━━━━━━━\u001b[0m\u001b[37m\u001b[0m \u001b[1m307s\u001b[0m 644ms/step - accuracy: 0.8707 - loss: 0.4122 - val_accuracy: 0.7406 - val_loss: 0.6923\n",
      "Epoch 18/50\n",
      "\u001b[1m  1/477\u001b[0m \u001b[37m━━━━━━━━━━━━━━━━━━━━\u001b[0m \u001b[1m4:47\u001b[0m 603ms/step - accuracy: 0.9531 - loss: 0.2715\n",
      "Epoch 18: val_loss did not improve from 0.65820\n",
      "\u001b[1m477/477\u001b[0m \u001b[32m━━━━━━━━━━━━━━━━━━━━\u001b[0m\u001b[37m\u001b[0m \u001b[1m3s\u001b[0m 5ms/step - accuracy: 0.9531 - loss: 0.2715 - val_accuracy: 0.7437 - val_loss: 0.6925\n",
      "Epoch 19/50\n",
      "\u001b[1m477/477\u001b[0m \u001b[32m━━━━━━━━━━━━━━━━━━━━\u001b[0m\u001b[37m\u001b[0m \u001b[1m0s\u001b[0m 641ms/step - accuracy: 0.9169 - loss: 0.2961\n",
      "Epoch 19: val_loss did not improve from 0.65820\n",
      "\u001b[1m477/477\u001b[0m \u001b[32m━━━━━━━━━━━━━━━━━━━━\u001b[0m\u001b[37m\u001b[0m \u001b[1m309s\u001b[0m 647ms/step - accuracy: 0.9169 - loss: 0.2961 - val_accuracy: 0.7906 - val_loss: 0.6983\n",
      "Epoch 19: early stopping\n",
      "Restoring model weights from the end of the best epoch: 14.\n",
      "\n",
      "Training finished.\n"
     ]
    }
   ],
   "source": [
    "# 4. Train the “head” on your feature vectors\n",
    "print(f\"\\nStarting training for up to {num_epochs} epochs (head only)...\")\n",
    "history = RN50_model.fit(\n",
    "    train_generator,\n",
    "    steps_per_epoch=train_generator.samples // batch_size, # Ensure steps cover the dataset\n",
    "    validation_data=val_generator,\n",
    "    validation_steps=val_generator.samples // batch_size, # Ensure steps cover the dataset\n",
    "    epochs=num_epochs,\n",
    "    callbacks=[early_stopping, model_checkpoint] # Add the callbacks\n",
    ")\n",
    "print(\"\\nTraining finished.\")"
   ]
  },
  {
   "cell_type": "code",
   "execution_count": 62,
   "metadata": {},
   "outputs": [],
   "source": [
    "from tensorflow.keras.models import load_model\n",
    "model = load_model(r'D:\\FUCK!!\\Pattern\\Project\\Models\\best_RN50_model.keras')"
   ]
  },
  {
   "cell_type": "code",
   "execution_count": 63,
   "metadata": {},
   "outputs": [
    {
     "name": "stdout",
     "output_type": "stream",
     "text": [
      "Found 328 images belonging to 10 classes.\n"
     ]
    }
   ],
   "source": [
    "from tensorflow.keras.applications.resnet50 import preprocess_input\n",
    "from sklearn.metrics import classification_report, confusion_matrix\n",
    "\n",
    "# 1) Prepare a “pure” test generator (no augmentation, only the same preprocessing)\n",
    "test_datagen = ImageDataGenerator(preprocessing_function=preprocess_input)\n",
    "\n",
    "test_gen = test_datagen.flow_from_directory(\n",
    "    directory=r'D:\\FUCK!!\\Pattern\\Project\\notebooks\\preprocessed_RGB_images\\test',    # point this to your test‐folder \n",
    "    target_size=input_shape[:2],           # e.g. (224, 224)\n",
    "    batch_size=batch_size,\n",
    "    class_mode='sparse',\n",
    "    shuffle=False                           # important! so labels/preds align\n",
    ")"
   ]
  },
  {
   "cell_type": "code",
   "execution_count": 64,
   "metadata": {},
   "outputs": [
    {
     "name": "stderr",
     "output_type": "stream",
     "text": [
      "c:\\Users\\omarn\\AppData\\Local\\Programs\\Python\\Python310\\lib\\site-packages\\keras\\src\\trainers\\data_adapters\\py_dataset_adapter.py:121: UserWarning: Your `PyDataset` class should call `super().__init__(**kwargs)` in its constructor. `**kwargs` can include `workers`, `use_multiprocessing`, `max_queue_size`. Do not pass these arguments to `fit()`, as they will be ignored.\n",
      "  self._warn_if_super_not_called()\n"
     ]
    },
    {
     "name": "stdout",
     "output_type": "stream",
     "text": [
      "\u001b[1m6/6\u001b[0m \u001b[32m━━━━━━━━━━━━━━━━━━━━\u001b[0m\u001b[37m\u001b[0m \u001b[1m7s\u001b[0m 1s/step - accuracy: 0.7890 - loss: 0.6127\n",
      "\n",
      "Test loss: 0.7700 — Test accuracy: 0.7470\n"
     ]
    }
   ],
   "source": [
    "# 0) Clear any old graphs / functions\n",
    "tf.keras.backend.clear_session()\n",
    "\n",
    "# 1) Reload your .keras model\n",
    "model = load_model(r'D:\\FUCK!!\\Pattern\\Project\\Models\\best_RN50_model.keras')\n",
    "\n",
    "# 2) Re-compile it with the correct loss and metrics, running eagerly\n",
    "model.compile(\n",
    "    optimizer=Adam(learning_rate=1e-4),\n",
    "    loss='sparse_categorical_crossentropy',\n",
    "    metrics=['accuracy'],\n",
    "    run_eagerly=True    # ← this disables the tf.function wrapping\n",
    ")\n",
    "\n",
    "# 3) Now evaluate on your test generator (no need to pass steps)\n",
    "loss, acc = model.evaluate(test_gen, verbose=1)\n",
    "print(f\"\\nTest loss: {loss:.4f} — Test accuracy: {acc:.4f}\")"
   ]
  },
  {
   "cell_type": "code",
   "execution_count": 65,
   "metadata": {},
   "outputs": [
    {
     "name": "stdout",
     "output_type": "stream",
     "text": [
      "\u001b[1m6/6\u001b[0m \u001b[32m━━━━━━━━━━━━━━━━━━━━\u001b[0m\u001b[37m\u001b[0m \u001b[1m5s\u001b[0m 830ms/step\n",
      "\n",
      "Classification Report:\n",
      "\n",
      "                                  precision    recall  f1-score   support\n",
      "\n",
      "         Achaemenid architecture       0.94      0.96      0.95        48\n",
      "American Foursquare architecture       0.85      0.76      0.80        45\n",
      "        American craftsman style       0.52      0.64      0.57        25\n",
      "   Ancient Egyptian architecture       0.95      0.87      0.91        23\n",
      "           Art Deco architecture       0.74      0.57      0.64        30\n",
      "        Art Nouveau architecture       0.71      0.80      0.75        25\n",
      "            Baroque architecture       0.64      0.64      0.64        33\n",
      "            Bauhaus architecture       0.86      0.76      0.81        33\n",
      "         Beaux-Arts architecture       0.51      0.80      0.62        35\n",
      "          Byzantine architecture       0.95      0.58      0.72        31\n",
      "\n",
      "                        accuracy                           0.75       328\n",
      "                       macro avg       0.77      0.74      0.74       328\n",
      "                    weighted avg       0.78      0.75      0.75       328\n",
      "\n"
     ]
    }
   ],
   "source": [
    "# 3) (Optional) Get per‐class metrics\n",
    "#    - Predict class probabilities\n",
    "steps = int(np.ceil(test_gen.samples / batch_size))\n",
    "pred_probs = model.predict(\n",
    "    test_gen,\n",
    "    steps = steps,\n",
    "    verbose=1\n",
    ")\n",
    "#    - Turn them into predicted class indices\n",
    "pred_idxs = np.argmax(pred_probs, axis=1)\n",
    "true_idxs = test_gen.classes\n",
    "labels   = list(test_gen.class_indices.keys())\n",
    "\n",
    "#    - Classification report\n",
    "print(\"\\nClassification Report:\\n\")\n",
    "print(classification_report(true_idxs, pred_idxs, target_names=labels))\n",
    "\n"
   ]
  },
  {
   "cell_type": "code",
   "execution_count": 69,
   "metadata": {},
   "outputs": [
    {
     "name": "stdout",
     "output_type": "stream",
     "text": [
      "confusion Matrix:\n",
      "\n",
      "[[46  0  0  1  0  0  0  0  1  0]\n",
      " [ 0 34 10  0  0  0  0  0  1  0]\n",
      " [ 1  6 16  0  0  0  0  0  2  0]\n",
      " [ 2  0  0 20  0  0  0  0  1  0]\n",
      " [ 0  0  1  0 17  1  3  3  5  0]\n",
      " [ 0  0  0  0  0 20  1  0  4  0]\n",
      " [ 0  0  0  0  1  5 21  0  5  1]\n",
      " [ 0  0  1  0  5  0  0 25  2  0]\n",
      " [ 0  0  2  0  0  2  2  1 28  0]\n",
      " [ 0  0  1  0  0  0  6  0  6 18]]\n"
     ]
    }
   ],
   "source": [
    "#    - Classification report\n",
    "print(\"confusion Matrix:\\n\")\n",
    "print(confusion_matrix(true_idxs, pred_idxs))"
   ]
  },
  {
   "cell_type": "code",
   "execution_count": 66,
   "metadata": {},
   "outputs": [
    {
     "data": {
      "image/png": "[encoded data removed]",
      "text/plain": [
       "<Figure size 640x480 with 1 Axes>"
      ]
     },
     "metadata": {},
     "output_type": "display_data"
    }
   ],
   "source": [
    "import matplotlib.pyplot as plt\n",
    "\n",
    "plt.plot(history.history['accuracy'], label='accuracy')\n",
    "plt.plot(history.history['val_accuracy'], label='val_accuracy')\n",
    "plt.legend(); plt.show()"
   ]
  },
  {
   "cell_type": "code",
   "execution_count": 67,
   "metadata": {},
   "outputs": [
    {
     "data": {
      "image/png": "[encoded data removed]",
      "text/plain": [
       "<Figure size 640x480 with 1 Axes>"
      ]
     },
     "metadata": {},
     "output_type": "display_data"
    }
   ],
   "source": [
    "import matplotlib.pyplot as plt\n",
    "\n",
    "plt.plot(history.history['loss'], label='train_loss')\n",
    "plt.plot(history.history['val_loss'], label='val_loss')\n",
    "plt.legend(); plt.show()\n"
   ]
  }
 ],
 "metadata": {
  "kernelspec": {
   "display_name": "Python 3",
   "language": "python",
   "name": "python3"
  },
  "language_info": {
   "codemirror_mode": {
    "name": "ipython",
    "version": 3
   },
   "file_extension": ".py",
   "mimetype": "text/x-python",
   "name": "python",
   "nbconvert_exporter": "python",
   "pygments_lexer": "ipython3",
   "version": "3.10.0"
  }
 },
 "nbformat": 4,
 "nbformat_minor": 2
}
