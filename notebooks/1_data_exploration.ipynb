{
 "cells": [
  {
   "cell_type": "code",
   "execution_count": 2,
   "id": "dc8667f8",
   "metadata": {},
   "outputs": [],
   "source": [
    "import os\n",
    "from collections import Counter\n",
    "import pandas as pd"
   ]
  },
  {
   "cell_type": "code",
   "execution_count": 3,
   "id": "08d8d7f3",
   "metadata": {},
   "outputs": [
    {
     "name": "stderr",
     "output_type": "stream",
     "text": [
      "<>:1: SyntaxWarning: invalid escape sequence '\\F'\n",
      "<>:1: SyntaxWarning: invalid escape sequence '\\F'\n",
      "C:\\Users\\omarn\\AppData\\Local\\Temp\\ipykernel_17564\\3083845477.py:1: SyntaxWarning: invalid escape sequence '\\F'\n",
      "  base_path = \"D:\\FUCK!!\\Pattern\\Project\\g-images-dataset\"\n"
     ]
    }
   ],
   "source": [
    "base_path = \"D:\\FUCK!!\\Pattern\\Project\\g-images-dataset\"\n",
    "\n",
    "image_paths = []\n",
    "labels = []"
   ]
  },
  {
   "cell_type": "code",
   "execution_count": 4,
   "id": "87fa55e0",
   "metadata": {},
   "outputs": [],
   "source": [
    "if not os.path.exists(base_path):\n",
    "    print(f\"Error: Directory {base_path} does not exist\")\n",
    "    exit()\n",
    "\n",
    "# Get all class directories\n",
    "try:\n",
    "    class_dirs = [d for d in os.listdir(base_path) \n",
    "                 if os.path.isdir(os.path.join(base_path, d))]\n",
    "except Exception as e:\n",
    "    print(f\"Error reading directory {base_path}: {str(e)}\")\n",
    "    exit()\n",
    "\n",
    "# Process each class directory\n",
    "for class_name in class_dirs:\n",
    "    class_dir = os.path.join(base_path, class_name)\n",
    "    try:\n",
    "        # Get all image files in the class directory\n",
    "        image_files = [f for f in os.listdir(class_dir) \n",
    "                      if f.lower().endswith((\".jpg\", \".jpeg\", \".png\"))]\n",
    "        \n",
    "        # Add paths and labels\n",
    "        for fname in image_files:\n",
    "            image_paths.append(os.path.join(class_dir, fname))\n",
    "            labels.append(class_name)\n",
    "            \n",
    "    except Exception as e:\n",
    "        print(f\"Warning: Error processing directory {class_dir}: {str(e)}\")\n",
    "        continue\n",
    "\n",
    "# Check if any images were found\n",
    "if not image_paths:\n",
    "    print(f\"No images found in {base_path}\")\n",
    "    exit()\n"
   ]
  },
  {
   "cell_type": "code",
   "execution_count": 5,
   "id": "14aed839",
   "metadata": {},
   "outputs": [],
   "source": [
    "# Create DataFrame\n",
    "df = pd.DataFrame({\n",
    "    'image_path': image_paths,\n",
    "    'label': labels\n",
    "})\n",
    "\n",
    "# Add filename column\n",
    "df['filename'] = df['image_path'].apply(lambda x: os.path.basename(x))"
   ]
  },
  {
   "cell_type": "code",
   "execution_count": 6,
   "id": "27eaa31f",
   "metadata": {},
   "outputs": [
    {
     "name": "stdout",
     "output_type": "stream",
     "text": [
      "\n",
      "DataFrame Info:\n",
      "<class 'pandas.core.frame.DataFrame'>\n",
      "RangeIndex: 5319 entries, 0 to 5318\n",
      "Data columns (total 3 columns):\n",
      " #   Column      Non-Null Count  Dtype \n",
      "---  ------      --------------  ----- \n",
      " 0   image_path  5319 non-null   object\n",
      " 1   label       5319 non-null   object\n",
      " 2   filename    5319 non-null   object\n",
      "dtypes: object(3)\n",
      "memory usage: 124.8+ KB\n",
      "None\n",
      "\n",
      "First few rows of the DataFrame:\n",
      "                                          image_path                    label  \\\n",
      "0  D:\\FUCK!!\\Pattern\\Project\\g-images-dataset\\Ach...  Achaemenid architecture   \n",
      "1  D:\\FUCK!!\\Pattern\\Project\\g-images-dataset\\Ach...  Achaemenid architecture   \n",
      "2  D:\\FUCK!!\\Pattern\\Project\\g-images-dataset\\Ach...  Achaemenid architecture   \n",
      "3  D:\\FUCK!!\\Pattern\\Project\\g-images-dataset\\Ach...  Achaemenid architecture   \n",
      "4  D:\\FUCK!!\\Pattern\\Project\\g-images-dataset\\Ach...  Achaemenid architecture   \n",
      "\n",
      "     filename  \n",
      "0  000000.jpg  \n",
      "1  000002.jpg  \n",
      "2  000003.jpg  \n",
      "3  000004.jpg  \n",
      "4  000005.jpg  \n"
     ]
    }
   ],
   "source": [
    "# Print DataFrame info\n",
    "print(\"\\nDataFrame Info:\")\n",
    "print(df.info())\n",
    "print(\"\\nFirst few rows of the DataFrame:\")\n",
    "print(df.head())"
   ]
  },
  {
   "cell_type": "code",
   "execution_count": 7,
   "id": "a9a00d29",
   "metadata": {},
   "outputs": [
    {
     "name": "stdout",
     "output_type": "stream",
     "text": [
      "\n",
      "Total number of images: 5319\n",
      "Number of classes: 25\n",
      "\n",
      "Class distribution:\n",
      "label\n",
      "Achaemenid architecture             323\n",
      "American Foursquare architecture    303\n",
      "Colonial architecture               303\n",
      "Queen Anne architecture             295\n",
      "Tudor Revival architecture          293\n",
      "Beaux-Arts architecture             233\n",
      "Palladian architecture              230\n",
      "Georgian architecture               227\n",
      "Bauhaus architecture                223\n",
      "Gothic architecture                 222\n",
      "Baroque architecture                217\n",
      "International style                 210\n",
      "Byzantine architecture              202\n",
      "Edwardian architecture              201\n",
      "Art Deco architecture               200\n",
      "Greek Revival architecture          196\n",
      "Romanesque architecture             194\n",
      "Russian Revival architecture        187\n",
      "Novelty architecture                170\n",
      "American craftsman style            169\n",
      "Art Nouveau architecture            165\n",
      "Postmodern architecture             159\n",
      "Ancient Egyptian architecture       150\n",
      "Chicago school architecture         125\n",
      "Deconstructivism                    122\n",
      "Name: count, dtype: int64\n"
     ]
    }
   ],
   "source": [
    "# Print statistics\n",
    "print(f\"\\nTotal number of images: {len(df)}\")\n",
    "print(f\"Number of classes: {df['label'].nunique()}\")\n",
    "print(\"\\nClass distribution:\")\n",
    "print(df['label'].value_counts())"
   ]
  },
  {
   "cell_type": "code",
   "execution_count": 8,
   "id": "756baa3a",
   "metadata": {},
   "outputs": [
    {
     "name": "stdout",
     "output_type": "stream",
     "text": [
      "\n",
      "DataFrame saved to image_dataset.csv\n"
     ]
    }
   ],
   "source": [
    "# Save DataFrame to CSV\n",
    "output_path = \"image_dataset.csv\"\n",
    "df.to_csv(output_path, index=False)\n",
    "print(f\"\\nDataFrame saved to {output_path}\")"
   ]
  }
 ],
 "metadata": {
  "kernelspec": {
   "display_name": "Python 3",
   "language": "python",
   "name": "python3"
  },
  "language_info": {
   "codemirror_mode": {
    "name": "ipython",
    "version": 3
   },
   "file_extension": ".py",
   "mimetype": "text/x-python",
   "name": "python",
   "nbconvert_exporter": "python",
   "pygments_lexer": "ipython3",
   "version": "3.13.2"
  }
 },
 "nbformat": 4,
 "nbformat_minor": 5
}
