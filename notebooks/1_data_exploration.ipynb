{
 "cells": [
  {
   "cell_type": "code",
   "execution_count": null,
   "id": "dc8667f8",
   "metadata": {
    "vscode": {
     "languageId": "plaintext"
    }
   },
   "outputs": [],
   "source": [
    "import os\n",
    "import matplotlib.pyplot as plt\n",
    "from collections import Counter\n",
    "from src.make_dataset import get_image_paths_and_labels, split_dataset"
   ]
  },
  {
   "cell_type": "code",
   "execution_count": null,
   "id": "08d8d7f3",
   "metadata": {
    "vscode": {
     "languageId": "plaintext"
    }
   },
   "outputs": [],
   "source": [
    "base_path = \"../data/architectural-styles-dataset\"\n",
    "image_paths, labels = get_image_paths_and_labels(base_path)"
   ]
  },
  {
   "cell_type": "code",
   "execution_count": null,
   "id": "87fa55e0",
   "metadata": {
    "vscode": {
     "languageId": "plaintext"
    }
   },
   "outputs": [],
   "source": [
    "class_counts = Counter(labels)\n",
    "plt.figure(figsize=(15, 5))\n",
    "plt.bar(class_counts.keys(), class_counts.values())\n",
    "plt.xticks(rotation=90)\n",
    "plt.title(\"Number of images per architectural style\")\n",
    "plt.tight_layout()\n",
    "plt.savefig(\"../outputs/figures/class_distribution.png\")\n",
    "plt.show()"
   ]
  },
  {
   "cell_type": "code",
   "execution_count": null,
   "id": "14aed839",
   "metadata": {
    "vscode": {
     "languageId": "plaintext"
    }
   },
   "outputs": [],
   "source": [
    "split_dataset(image_paths, labels, output_dir=\"../data/processed\")"
   ]
  }
 ],
 "metadata": {
  "language_info": {
   "name": "python"
  }
 },
 "nbformat": 4,
 "nbformat_minor": 5
}
